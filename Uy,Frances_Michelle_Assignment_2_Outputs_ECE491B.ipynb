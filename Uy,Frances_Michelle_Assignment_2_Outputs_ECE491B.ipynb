{
  "nbformat": 4,
  "nbformat_minor": 0,
  "metadata": {
    "colab": {
      "provenance": [],
      "authorship_tag": "ABX9TyOn3EikVt6FFnUzwqB/GhDP",
      "include_colab_link": true
    },
    "kernelspec": {
      "name": "python3",
      "display_name": "Python 3"
    },
    "language_info": {
      "name": "python"
    }
  },
  "cells": [
    {
      "cell_type": "markdown",
      "metadata": {
        "id": "view-in-github",
        "colab_type": "text"
      },
      "source": [
        "<a href=\"https://colab.research.google.com/github/frances-uy/s2025-assignment2-data/blob/master/Uy%2CFrances_Michelle_Assignment_2_Outputs_ECE491B.ipynb\" target=\"_parent\"><img src=\"https://colab.research.google.com/assets/colab-badge.svg\" alt=\"Open In Colab\"/></a>"
      ]
    },
    {
      "cell_type": "markdown",
      "source": [
        "# Quality Classifier for Text Content\n",
        "## CS336 Assignment: Filtering Language Modeling Data"
      ],
      "metadata": {
        "id": "zO3LN5FsPPUp"
      }
    },
    {
      "cell_type": "markdown",
      "source": [
        "This notebook demonstrates a quality classifier that identifies high-quality vs. low-quality text content. It's designed to classify text as either from a high-quality source (like Wikipedia references) or a low-quality source (like random web crawl data)."
      ],
      "metadata": {
        "id": "WSBkWeIdPZyn"
      }
    },
    {
      "cell_type": "markdown",
      "source": [
        "### Setup"
      ],
      "metadata": {
        "id": "_MR-woxOPpp-"
      }
    },
    {
      "cell_type": "code",
      "source": [
        "!git clone https://github.com/frances-uy/s2025-assignment2-data.git"
      ],
      "metadata": {
        "colab": {
          "base_uri": "https://localhost:8080/"
        },
        "id": "cMU4T29pP0eN",
        "outputId": "d43f45f9-e875-4446-89c2-d0d875dd7804"
      },
      "execution_count": 60,
      "outputs": [
        {
          "output_type": "stream",
          "name": "stdout",
          "text": [
            "Cloning into 's2025-assignment2-data'...\n",
            "remote: Enumerating objects: 139, done.\u001b[K\n",
            "remote: Counting objects: 100% (47/47), done.\u001b[K\n",
            "remote: Compressing objects: 100% (25/25), done.\u001b[K\n",
            "remote: Total 139 (delta 29), reused 32 (delta 22), pack-reused 92 (from 1)\u001b[K\n",
            "Receiving objects: 100% (139/139), 16.93 MiB | 33.14 MiB/s, done.\n",
            "Resolving deltas: 100% (42/42), done.\n"
          ]
        }
      ]
    },
    {
      "cell_type": "code",
      "source": [
        "!ls -la"
      ],
      "metadata": {
        "colab": {
          "base_uri": "https://localhost:8080/"
        },
        "id": "te2D_I4OThoz",
        "outputId": "90451deb-96c7-41df-f33c-a21f70c90620"
      },
      "execution_count": 61,
      "outputs": [
        {
          "output_type": "stream",
          "name": "stdout",
          "text": [
            "total 16632\n",
            "drwxr-xr-x 6 root root     4096 Mar 29 03:51 .\n",
            "drwxr-xr-x 6 root root     4096 Mar 29 03:05 ..\n",
            "-rw-r--r-- 1 root root     1102 Mar 29 03:05 CHANGELOG.md\n",
            "-rw-r--r-- 1 root root     3764 Mar 29 03:05 compare_extraction.py\n",
            "-rw-r--r-- 1 root root    15518 Mar 29 03:05 create_training_data.py\n",
            "drwxr-xr-x 5 root root     4096 Mar 29 03:05 cs336-basics\n",
            "drwxr-xr-x 5 root root     4096 Mar 29 03:05 cs336-data\n",
            "-rw-r--r-- 1 root root   149544 Mar 29 03:05 cs336_spring2024_assignment4_data.pdf\n",
            "drwxr-xr-x 8 root root     4096 Mar 29 03:37 .git\n",
            "-rw-r--r-- 1 root root     3112 Mar 29 03:05 .gitignore\n",
            "-rw-r--r-- 1 root root  3934088 Mar 29 03:05 quality_train.txt\n",
            "-rw-r--r-- 1 root root     4763 Mar 29 03:05 README.md\n",
            "drwxr-xr-x 5 root root     4096 Mar 29 03:51 s2025-assignment2-data\n",
            "-rwxr-xr-x 1 root root     1042 Mar 29 03:05 test_and_make_submission.sh\n",
            "-rw-r--r-- 1 root root      991 Mar 29 03:05 train_model.py\n",
            "-rw-r--r-- 1 root root     3837 Mar 29 03:05 train_quality_model.py\n",
            "-rw-r--r-- 1 root root 12934526 Mar 29 03:05 wiki_sample.warc.gz\n"
          ]
        }
      ]
    },
    {
      "cell_type": "code",
      "source": [
        "!pip install -e ./cs336-basics/\n",
        "!pip install -e './cs336-data/[test]'"
      ],
      "metadata": {
        "colab": {
          "base_uri": "https://localhost:8080/"
        },
        "id": "LU81fV4eQJOg",
        "outputId": "b828c8a1-e8b0-4b9c-f5c6-c8da9d8d6cbd"
      },
      "execution_count": null,
      "outputs": [
        {
          "output_type": "stream",
          "name": "stdout",
          "text": [
            "Obtaining file:///content/s2025-assignment2-data/s2025-assignment2-data/cs336-basics\n",
            "  Preparing metadata (setup.py) ... \u001b[?25l\u001b[?25hdone\n",
            "Requirement already satisfied: regex in /usr/local/lib/python3.11/dist-packages (from cs336_basics==0.0.0.dev0) (2024.11.6)\n",
            "Requirement already satisfied: torch==2.2.1 in /usr/local/lib/python3.11/dist-packages (from cs336_basics==0.0.0.dev0) (2.2.1)\n",
            "Requirement already satisfied: numpy in /usr/local/lib/python3.11/dist-packages (from cs336_basics==0.0.0.dev0) (2.0.2)\n",
            "Requirement already satisfied: wandb in /usr/local/lib/python3.11/dist-packages (from cs336_basics==0.0.0.dev0) (0.19.8)\n",
            "Requirement already satisfied: filelock in /usr/local/lib/python3.11/dist-packages (from torch==2.2.1->cs336_basics==0.0.0.dev0) (3.18.0)\n",
            "Requirement already satisfied: typing-extensions>=4.8.0 in /usr/local/lib/python3.11/dist-packages (from torch==2.2.1->cs336_basics==0.0.0.dev0) (4.12.2)\n",
            "Requirement already satisfied: sympy in /usr/local/lib/python3.11/dist-packages (from torch==2.2.1->cs336_basics==0.0.0.dev0) (1.13.1)\n",
            "Requirement already satisfied: networkx in /usr/local/lib/python3.11/dist-packages (from torch==2.2.1->cs336_basics==0.0.0.dev0) (3.4.2)\n",
            "Requirement already satisfied: jinja2 in /usr/local/lib/python3.11/dist-packages (from torch==2.2.1->cs336_basics==0.0.0.dev0) (3.1.6)\n",
            "Requirement already satisfied: fsspec in /usr/local/lib/python3.11/dist-packages (from torch==2.2.1->cs336_basics==0.0.0.dev0) (2025.3.0)\n",
            "Requirement already satisfied: nvidia-cuda-nvrtc-cu12==12.1.105 in /usr/local/lib/python3.11/dist-packages (from torch==2.2.1->cs336_basics==0.0.0.dev0) (12.1.105)\n",
            "Requirement already satisfied: nvidia-cuda-runtime-cu12==12.1.105 in /usr/local/lib/python3.11/dist-packages (from torch==2.2.1->cs336_basics==0.0.0.dev0) (12.1.105)\n",
            "Requirement already satisfied: nvidia-cuda-cupti-cu12==12.1.105 in /usr/local/lib/python3.11/dist-packages (from torch==2.2.1->cs336_basics==0.0.0.dev0) (12.1.105)\n",
            "Requirement already satisfied: nvidia-cudnn-cu12==8.9.2.26 in /usr/local/lib/python3.11/dist-packages (from torch==2.2.1->cs336_basics==0.0.0.dev0) (8.9.2.26)\n",
            "Requirement already satisfied: nvidia-cublas-cu12==12.1.3.1 in /usr/local/lib/python3.11/dist-packages (from torch==2.2.1->cs336_basics==0.0.0.dev0) (12.1.3.1)\n",
            "Requirement already satisfied: nvidia-cufft-cu12==11.0.2.54 in /usr/local/lib/python3.11/dist-packages (from torch==2.2.1->cs336_basics==0.0.0.dev0) (11.0.2.54)\n",
            "Requirement already satisfied: nvidia-curand-cu12==10.3.2.106 in /usr/local/lib/python3.11/dist-packages (from torch==2.2.1->cs336_basics==0.0.0.dev0) (10.3.2.106)\n",
            "Requirement already satisfied: nvidia-cusolver-cu12==11.4.5.107 in /usr/local/lib/python3.11/dist-packages (from torch==2.2.1->cs336_basics==0.0.0.dev0) (11.4.5.107)\n",
            "Requirement already satisfied: nvidia-cusparse-cu12==12.1.0.106 in /usr/local/lib/python3.11/dist-packages (from torch==2.2.1->cs336_basics==0.0.0.dev0) (12.1.0.106)\n",
            "Requirement already satisfied: nvidia-nccl-cu12==2.19.3 in /usr/local/lib/python3.11/dist-packages (from torch==2.2.1->cs336_basics==0.0.0.dev0) (2.19.3)\n",
            "Requirement already satisfied: nvidia-nvtx-cu12==12.1.105 in /usr/local/lib/python3.11/dist-packages (from torch==2.2.1->cs336_basics==0.0.0.dev0) (12.1.105)\n",
            "Requirement already satisfied: triton==2.2.0 in /usr/local/lib/python3.11/dist-packages (from torch==2.2.1->cs336_basics==0.0.0.dev0) (2.2.0)\n",
            "Requirement already satisfied: nvidia-nvjitlink-cu12 in /usr/local/lib/python3.11/dist-packages (from nvidia-cusolver-cu12==11.4.5.107->torch==2.2.1->cs336_basics==0.0.0.dev0) (12.5.82)\n",
            "Requirement already satisfied: click!=8.0.0,>=7.1 in /usr/local/lib/python3.11/dist-packages (from wandb->cs336_basics==0.0.0.dev0) (8.1.8)\n",
            "Requirement already satisfied: docker-pycreds>=0.4.0 in /usr/local/lib/python3.11/dist-packages (from wandb->cs336_basics==0.0.0.dev0) (0.4.0)\n",
            "Requirement already satisfied: gitpython!=3.1.29,>=1.0.0 in /usr/local/lib/python3.11/dist-packages (from wandb->cs336_basics==0.0.0.dev0) (3.1.44)\n",
            "Requirement already satisfied: platformdirs in /usr/local/lib/python3.11/dist-packages (from wandb->cs336_basics==0.0.0.dev0) (4.3.7)\n",
            "Requirement already satisfied: protobuf!=4.21.0,!=5.28.0,<6,>=3.19.0 in /usr/local/lib/python3.11/dist-packages (from wandb->cs336_basics==0.0.0.dev0) (5.29.4)\n",
            "Requirement already satisfied: psutil>=5.0.0 in /usr/local/lib/python3.11/dist-packages (from wandb->cs336_basics==0.0.0.dev0) (5.9.5)\n",
            "Requirement already satisfied: pydantic<3,>=2.6 in /usr/local/lib/python3.11/dist-packages (from wandb->cs336_basics==0.0.0.dev0) (2.10.6)\n",
            "Requirement already satisfied: pyyaml in /usr/local/lib/python3.11/dist-packages (from wandb->cs336_basics==0.0.0.dev0) (6.0.2)\n",
            "Requirement already satisfied: requests<3,>=2.0.0 in /usr/local/lib/python3.11/dist-packages (from wandb->cs336_basics==0.0.0.dev0) (2.32.3)\n",
            "Requirement already satisfied: sentry-sdk>=2.0.0 in /usr/local/lib/python3.11/dist-packages (from wandb->cs336_basics==0.0.0.dev0) (2.24.0)\n",
            "Requirement already satisfied: setproctitle in /usr/local/lib/python3.11/dist-packages (from wandb->cs336_basics==0.0.0.dev0) (1.3.5)\n",
            "Requirement already satisfied: setuptools in /usr/local/lib/python3.11/dist-packages (from wandb->cs336_basics==0.0.0.dev0) (75.1.0)\n",
            "Requirement already satisfied: six>=1.4.0 in /usr/local/lib/python3.11/dist-packages (from docker-pycreds>=0.4.0->wandb->cs336_basics==0.0.0.dev0) (1.17.0)\n",
            "Requirement already satisfied: gitdb<5,>=4.0.1 in /usr/local/lib/python3.11/dist-packages (from gitpython!=3.1.29,>=1.0.0->wandb->cs336_basics==0.0.0.dev0) (4.0.12)\n",
            "Requirement already satisfied: annotated-types>=0.6.0 in /usr/local/lib/python3.11/dist-packages (from pydantic<3,>=2.6->wandb->cs336_basics==0.0.0.dev0) (0.7.0)\n",
            "Requirement already satisfied: pydantic-core==2.27.2 in /usr/local/lib/python3.11/dist-packages (from pydantic<3,>=2.6->wandb->cs336_basics==0.0.0.dev0) (2.27.2)\n",
            "Requirement already satisfied: charset-normalizer<4,>=2 in /usr/local/lib/python3.11/dist-packages (from requests<3,>=2.0.0->wandb->cs336_basics==0.0.0.dev0) (3.4.1)\n",
            "Requirement already satisfied: idna<4,>=2.5 in /usr/local/lib/python3.11/dist-packages (from requests<3,>=2.0.0->wandb->cs336_basics==0.0.0.dev0) (3.10)\n",
            "Requirement already satisfied: urllib3<3,>=1.21.1 in /usr/local/lib/python3.11/dist-packages (from requests<3,>=2.0.0->wandb->cs336_basics==0.0.0.dev0) (2.3.0)\n",
            "Requirement already satisfied: certifi>=2017.4.17 in /usr/local/lib/python3.11/dist-packages (from requests<3,>=2.0.0->wandb->cs336_basics==0.0.0.dev0) (2025.1.31)\n",
            "Requirement already satisfied: MarkupSafe>=2.0 in /usr/local/lib/python3.11/dist-packages (from jinja2->torch==2.2.1->cs336_basics==0.0.0.dev0) (3.0.2)\n",
            "Requirement already satisfied: mpmath<1.4,>=1.1.0 in /usr/local/lib/python3.11/dist-packages (from sympy->torch==2.2.1->cs336_basics==0.0.0.dev0) (1.3.0)\n",
            "Requirement already satisfied: smmap<6,>=3.0.1 in /usr/local/lib/python3.11/dist-packages (from gitdb<5,>=4.0.1->gitpython!=3.1.29,>=1.0.0->wandb->cs336_basics==0.0.0.dev0) (5.0.2)\n",
            "Installing collected packages: cs336_basics\n",
            "  Attempting uninstall: cs336_basics\n",
            "    Found existing installation: cs336_basics 0.0.0.dev0\n",
            "    Uninstalling cs336_basics-0.0.0.dev0:\n",
            "      Successfully uninstalled cs336_basics-0.0.0.dev0\n",
            "  Running setup.py develop for cs336_basics\n",
            "Successfully installed cs336_basics-0.0.0.dev0\n",
            "Obtaining file:///content/s2025-assignment2-data/s2025-assignment2-data/cs336-data\n",
            "  Preparing metadata (setup.py) ... \u001b[?25l\u001b[?25hdone\n",
            "Requirement already satisfied: xopen in /usr/local/lib/python3.11/dist-packages (from cs336_data==0.0.4) (2.0.2)\n",
            "Requirement already satisfied: resiliparse in /usr/local/lib/python3.11/dist-packages (from cs336_data==0.0.4) (0.15.2)\n",
            "Requirement already satisfied: fasttext in /usr/local/lib/python3.11/dist-packages (from cs336_data==0.0.4) (0.9.3)\n",
            "Requirement already satisfied: pytest in /usr/local/lib/python3.11/dist-packages (from cs336_data==0.0.4) (8.3.5)\n",
            "Requirement already satisfied: pybind11>=2.2 in /usr/local/lib/python3.11/dist-packages (from fasttext->cs336_data==0.0.4) (2.13.6)\n",
            "Requirement already satisfied: setuptools>=0.7.0 in /usr/local/lib/python3.11/dist-packages (from fasttext->cs336_data==0.0.4) (75.1.0)\n",
            "Requirement already satisfied: numpy in /usr/local/lib/python3.11/dist-packages (from fasttext->cs336_data==0.0.4) (2.0.2)\n",
            "Requirement already satisfied: iniconfig in /usr/local/lib/python3.11/dist-packages (from pytest->cs336_data==0.0.4) (2.1.0)\n",
            "Requirement already satisfied: packaging in /usr/local/lib/python3.11/dist-packages (from pytest->cs336_data==0.0.4) (24.2)\n",
            "Requirement already satisfied: pluggy<2,>=1.5 in /usr/local/lib/python3.11/dist-packages (from pytest->cs336_data==0.0.4) (1.5.0)\n",
            "Requirement already satisfied: fastwarc==0.15.2 in /usr/local/lib/python3.11/dist-packages (from resiliparse->cs336_data==0.0.4) (0.15.2)\n",
            "Requirement already satisfied: brotli in /usr/local/lib/python3.11/dist-packages (from fastwarc==0.15.2->resiliparse->cs336_data==0.0.4) (1.1.0)\n",
            "Requirement already satisfied: click in /usr/local/lib/python3.11/dist-packages (from fastwarc==0.15.2->resiliparse->cs336_data==0.0.4) (8.1.8)\n",
            "Requirement already satisfied: tqdm in /usr/local/lib/python3.11/dist-packages (from fastwarc==0.15.2->resiliparse->cs336_data==0.0.4) (4.67.1)\n",
            "Requirement already satisfied: isal>=1.6.1 in /usr/local/lib/python3.11/dist-packages (from xopen->cs336_data==0.0.4) (1.7.2)\n",
            "Requirement already satisfied: zlib-ng>=0.4.1 in /usr/local/lib/python3.11/dist-packages (from xopen->cs336_data==0.0.4) (0.5.1)\n",
            "Installing collected packages: cs336_data\n",
            "  Attempting uninstall: cs336_data\n",
            "    Found existing installation: cs336_data 0.0.4\n",
            "    Uninstalling cs336_data-0.0.4:\n",
            "      Successfully uninstalled cs336_data-0.0.4\n",
            "  Running setup.py develop for cs336_data\n",
            "Successfully installed cs336_data-0.0.4\n"
          ]
        }
      ]
    },
    {
      "cell_type": "code",
      "source": [
        "!git checkout master"
      ],
      "metadata": {
        "colab": {
          "base_uri": "https://localhost:8080/"
        },
        "id": "BsSPJAVmHEwm",
        "outputId": "9d0d3d0b-e067-497c-8b2b-dd72c01fa68a"
      },
      "execution_count": 92,
      "outputs": [
        {
          "output_type": "stream",
          "name": "stdout",
          "text": [
            "Already on 'master'\n",
            "Your branch is up to date with 'origin/master'.\n"
          ]
        }
      ]
    },
    {
      "cell_type": "code",
      "source": [
        "!git pull"
      ],
      "metadata": {
        "colab": {
          "base_uri": "https://localhost:8080/"
        },
        "id": "JqXoRaKuyid_",
        "outputId": "7e90ebd4-c6cc-43d6-84be-53cb8656d3c8"
      },
      "execution_count": 93,
      "outputs": [
        {
          "output_type": "stream",
          "name": "stdout",
          "text": [
            "Already up to date.\n"
          ]
        }
      ]
    },
    {
      "cell_type": "code",
      "source": [
        "!ls"
      ],
      "metadata": {
        "colab": {
          "base_uri": "https://localhost:8080/"
        },
        "id": "sSUdZWc9Dwl8",
        "outputId": "d1ad37c1-22ab-4831-8e57-0664bb919247"
      },
      "execution_count": 79,
      "outputs": [
        {
          "output_type": "stream",
          "name": "stdout",
          "text": [
            "CHANGELOG.md\t\t cs336_spring2024_assignment4_data.pdf\ttrain_model.py\n",
            "compare_extraction.py\t quality_train.txt\t\t\ttrain_quality_model.py\n",
            "create_training_data.py  README.md\t\t\t\twiki_sample.warc.gz\n",
            "cs336-basics\t\t s2025-assignment2-data\n",
            "cs336-data\t\t test_and_make_submission.sh\n"
          ]
        }
      ]
    },
    {
      "cell_type": "code",
      "source": [
        "!pwd"
      ],
      "metadata": {
        "colab": {
          "base_uri": "https://localhost:8080/"
        },
        "id": "IpebSqQTG_Kj",
        "outputId": "eec565d8-ca7d-4120-c85c-49dd1f2c5c8a"
      },
      "execution_count": 82,
      "outputs": [
        {
          "output_type": "stream",
          "name": "stdout",
          "text": [
            "/content/s2025-assignment2-data/s2025-assignment2-data\n"
          ]
        }
      ]
    },
    {
      "cell_type": "code",
      "source": [
        "!git checkout master"
      ],
      "metadata": {
        "colab": {
          "base_uri": "https://localhost:8080/"
        },
        "id": "eZKfNQ3Yyj-b",
        "outputId": "5dc61e04-8d67-40f8-83f9-596cc75a32cd"
      },
      "execution_count": 91,
      "outputs": [
        {
          "output_type": "stream",
          "name": "stdout",
          "text": [
            "Already on 'master'\n",
            "Your branch is up to date with 'origin/master'.\n"
          ]
        }
      ]
    },
    {
      "cell_type": "code",
      "source": [
        "from __future__ import annotations\n",
        "\n",
        "import os\n",
        "import re\n",
        "from typing import Tuple, Any\n",
        "import fasttext"
      ],
      "metadata": {
        "id": "n7g9aLFvCLwI"
      },
      "execution_count": 72,
      "outputs": []
    },
    {
      "cell_type": "markdown",
      "source": [
        "## 2.2: Problem (extract_text): 3 points"
      ],
      "metadata": {
        "id": "G5AbxWn7Bw7r"
      }
    },
    {
      "cell_type": "code",
      "source": [
        "from resiliparse.extract.html2text import extract_plain_text\n",
        "from resiliparse.parse.encoding import detect_encoding\n",
        "\n",
        "def extract_text_from_html_bytes(html_bytes):\n",
        "    \"\"\"\n",
        "    Extract plain text from HTML byte string.\n",
        "\n",
        "    Args:\n",
        "        html_bytes (bytes): Raw HTML content as bytes\n",
        "\n",
        "    Returns:\n",
        "        str: Extracted plain text\n",
        "    \"\"\"\n",
        "    # First try UTF-8 decoding\n",
        "    try:\n",
        "        html_str = html_bytes.decode('utf-8')\n",
        "    except UnicodeDecodeError:\n",
        "        # If UTF-8 fails, try to detect the encoding\n",
        "        detected_encoding = detect_encoding(html_bytes)\n",
        "        if detected_encoding:\n",
        "            try:\n",
        "                html_str = html_bytes.decode(detected_encoding)\n",
        "            except UnicodeDecodeError:\n",
        "                # If all else fails, use 'replace' to handle decoding errors\n",
        "                html_str = html_bytes.decode('utf-8', errors='replace')\n",
        "        else:\n",
        "            # Fallback with error replacement\n",
        "            html_str = html_bytes.decode('utf-8', errors='replace')\n",
        "\n",
        "    # Extract plain text using Resiliparse\n",
        "    extracted_text = extract_plain_text(html_str)\n",
        "    return extracted_text"
      ],
      "metadata": {
        "id": "uPykw7tIB5rV"
      },
      "execution_count": 71,
      "outputs": []
    },
    {
      "cell_type": "code",
      "source": [
        "def run_extract_text_from_html_bytes(html_bytes: bytes) -> str | None:\n",
        "    return extract_impl(html_bytes)"
      ],
      "metadata": {
        "id": "WBR0Cov2CNmp"
      },
      "execution_count": 75,
      "outputs": []
    },
    {
      "cell_type": "markdown",
      "source": [
        "## Quality Classifier for Text Content (Section 2.7)"
      ],
      "metadata": {
        "id": "REPMJQxrytaN"
      }
    },
    {
      "cell_type": "code",
      "source": [
        "import fasttext\n",
        "import re\n",
        "import os\n",
        "import numpy as np\n",
        "import pandas as pd\n",
        "import matplotlib.pyplot as plt\n",
        "from typing import Tuple"
      ],
      "metadata": {
        "id": "6fnrhHTTywZZ"
      },
      "execution_count": 70,
      "outputs": []
    }
  ]
}